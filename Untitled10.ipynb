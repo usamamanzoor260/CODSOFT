{
  "nbformat": 4,
  "nbformat_minor": 0,
  "metadata": {
    "colab": {
      "provenance": []
    },
    "kernelspec": {
      "name": "python3",
      "display_name": "Python 3"
    },
    "language_info": {
      "name": "python"
    }
  },
  "cells": [
    {
      "cell_type": "code",
      "execution_count": null,
      "metadata": {
        "id": "h0BhzLr0f1UR"
      },
      "outputs": [],
      "source": [
        "import math # using match library\n",
        "\n",
        "# Function to perform operations\n",
        "def calculate(num1, num2, operation):\n",
        "    if operation == '+':\n",
        "        return num1 + num2\n",
        "    elif operation == '-':\n",
        "        return num1 - num2\n",
        "    elif operation == '*':\n",
        "        return num1 * num2\n",
        "    elif operation == '/':\n",
        "        if num2 != 0:\n",
        "            return num1 / num2\n",
        "        else:\n",
        "            return \"Error: Division by zero\"\n",
        "    elif operation == 'sin':\n",
        "        return math.sin(num1)\n",
        "    elif operation == 'cos':\n",
        "        return math.cos(num1)\n",
        "    elif operation == 'tan':\n",
        "        return math.tan(num1)\n",
        "    elif operation == 'asin':\n",
        "        return math.asin(num1)\n",
        "    elif operation == 'acos':\n",
        "        return math.acos(num1)\n",
        "    elif operation == 'atan':\n",
        "        return math.atan(num1)\n",
        "    else:\n",
        "        return \"Invalid operation\"\n",
        "\n",
        "# Input from the user\n",
        "num1 = float(input(\"Enter the first number: \"))\n",
        "num2 = float(input(\"Enter the second number (for trigonometric and inverse trigonometric functions, this will be ignored): \"))\n",
        "operation = input(\"Choose an operation (+, -, *, /, sin, cos, tan, asin, acos, atan): \")\n",
        "\n",
        "# Perform the calculation\n",
        "result = calculate(num1, num2, operation)\n",
        "\n",
        "# Display the result\n",
        "print(f\"Result: {result}\")\n"
      ]
    }
  ]
}